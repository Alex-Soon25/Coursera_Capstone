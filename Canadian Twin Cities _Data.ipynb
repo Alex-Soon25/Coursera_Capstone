{
 "cells": [
  {
   "cell_type": "markdown",
   "metadata": {},
   "source": [
    "# Canadian Twin Cities ?"
   ]
  },
  {
   "cell_type": "markdown",
   "metadata": {},
   "source": [
    "## Introduction\n",
    "This report seeks to compare two of Canada's most popular and desirable cities; Toronto and Vancouver. These two cities has been eternal 'rivals' among migrating city dwellers, professional expatriates, and international tourists  .\n",
    "\n",
    "The desirability and productivity of a city is the result of its economic growth and development, no less contributed by its land-use decisions. Through time, urban planners constantly monitors land use, so as to ensure the landscape not only retains their heritage and strategic advantage, but also its usage reaps the highest return.  \n",
    "\n",
    "There are aplenty of websites and travel guides on these cities, with extensive write-ups on features such as city site, climate, history and culture. However, these is an absence of resources that allows stakeholders to have a simple direct comparison of neighborhoods' physical characteristics in terms of land use mix across these two cities. I will attempt to extend that comparison using FourSquare's location data."
   ]
  },
  {
   "cell_type": "markdown",
   "metadata": {},
   "source": [
    "#### Brief abstract on Toronto\n",
    "Toronto is the provincial capital of Ontario, is the most populous city in Canada. It is an important international trading centre, with the greatest economic ties to, and influence from, the United States. It is home to the headquarters of Canada's five largest banks and other multinationals, and host a dominant stock exchange. By the 1980s, shifted to service employment, making Toronto a prominent financial, insurance, administration and retailing centre.\n",
    "#### Brief abstract on Vancouver\n",
    "Vancouver is a coastal seaport city in region of British Columbia, and is Canada's major Pacific coast port, and is today home to the largest fine natural port in Canada, serving as a main hub for trade with Asia and Pacific Rim. It is no wonder that it has trade and transportation as basic components of its economy, together with forestry and mining.  It is North America's most cosmopolitan place, with one of the most pictureque settings of any city in the world, making it a favorite tourist, as well as film and TV production destination."
   ]
  },
  {
   "cell_type": "markdown",
   "metadata": {},
   "source": [
    "## Significance of this project for stakeholders\n",
    "This study will be of interest to the following stakeholders:\n",
    "1. Prospective Internal and external immigrants, for reasons such as\n",
    "  * to adopt a neighborhood with similar facilities (e.g. types of restaurants, supermarkets) to their current residents, so as to adapt quickly.\n",
    "  * a preference to start new residences in neighborhoods that is either densely built (for vibrancy and convenience), or sparsely built (for better air quality or tranquility).\n",
    "\n",
    "2. City planners and officials, for reasons such as\n",
    "  * to monitor the development and growth of specified neighborhoods, and if the landscape deviated from intended usage. \n",
    "  * to compare, and differentiate, the land use of neighborhoods of their city from rival cities, perhaps to boost tourist visits.\n",
    "\n",
    "3. Companies and businesses, for reasons such as\n",
    "  * preferences to set up franchises, outlets and branches in other cities at locations with neighborhood characteristics that are similar to successful sites in present city. Successful or prosperous office and shop locations could be due to intangible correlations with surrounding features (such as near transport facilities, or complementary business types), and business owners usually will pay attention to such details when establishing new sites in another city."
   ]
  },
  {
   "cell_type": "markdown",
   "metadata": {},
   "source": [
    "### Neighborhoods for comparison\n",
    "Comparison is conducted on metrics based on physical forms (characteristics) of neighborhoods within designated feature district of the city. I have selected three feature districts of the city for this task: waterfront/habour, financial district, airport.\n",
    "\n",
    "Justification for neighborhood selection:\n",
    "\n",
    "1. Shipping trades contributed a significant role in the early development of both cities, where both had thrived from trades with neighboring countries. And picturesque waterfronts are popular destinations for both tourists and affluent residents. A comparison could be established for potential residents before making real estate investments, as well as city officials if the land use is reaping got returns in terms of tourist dollars.\n",
    "\n",
    "   *Neighnorhoods: Coal Harbour  vs Downtown Toronto, Harbourfront*\n",
    "   \n",
    "\n",
    "2. The central business district is the engine of economic growth for any city. A comparison for city planners would enable them to observe how the land-use in own or rival neighborhood reaps the most profitable returns in terms of rentals. The built density would be an indicator of  efficient land use.\n",
    "\n",
    "    *Neighborhoods: Downtown Vancouver vs Downtown Toronto, Union Station*\n",
    "\n",
    "\n",
    "3. The airport is the main aviation hub for any cities. A comparison of land-organization around the neighborhood would allow analysis of the traffic movements and vehicle speed, two crucial factors influencing any aviation hub stature.\n",
    "\n",
    "   *Neighborhoods: Vancouver International Airport vs Pearson International Airport*"
   ]
  },
  {
   "cell_type": "markdown",
   "metadata": {},
   "source": [
    "## Data Sources\n",
    "Data will be extracted from the following sources,\n",
    "  * https://en.wikipedia.org/wiki/List_of_postal_codes_of_Canada:_M\n",
    "  * https://en.wikipedia.org/wiki/List_of_neighbourhoods_in_Vancouver\n",
    "  * https://api.foursquare.com/v2/\n",
    "  * https://www.latlong.net\n",
    " \n",
    "The following underlines the sequence the data would be acquired.\n",
    "\n",
    "1. Neighborhoods in Cities:\n",
    "\n",
    "   Neighborhoods for Toronto and Vancouver would be scraped off the above wikipedia sites. The boroughs with their respective neighborhoods would be assigned to their respective dataframes. This is the first step in extracting the required neighborhoods for comparison.\n",
    "   \n",
    "\n",
    "2. Location data:\n",
    "\n",
    "   From the dataframes of neighborhoods, two new columns, for the latitude and longitude for each neighborhood, would be inserted. Latitudes and longitudes are earth's geographical coordinates that enables location apps such as FourSquare, to pinpoint a location on earth. The geographical coordinates for each neighborhood are looked up from a free online geographic tool, such as https://www.latlong.net.\n",
    "   \n",
    "\n",
    "3. Neighborhood's venues:\n",
    "\n",
    "   Each neighborhood under comparison will have their geographical coordinates used to extract venues residing within the neighborhood, via FourSquare's APIs calls. A venue is defined as a place of activity, and range any place from cafes and parks to sports facilities. The respond returned by FourSquare's venue endpoint includes data like name, address, categories and distance. The latter two will be utilized in comparison analysis.\n",
    "\n",
    "   i. Venue categories:\n",
    "This describes the class or 'group' which a venue belongs to, and venues that are assigned the same category implies they share common characteristics. For example, venues that are categorized 'parks' are likely large public gardens or areas of land for recreational purposes. This categorical data could be used to make land use organization comparison between cities.\n",
    "\n",
    "   ii. Venue distance: \n",
    "This measures the space, in meters, of each venue from the given neighborhood's geographical location. This quantitative data could be be used to determine the area density of each neighborhood. Venues that on average closer to the neighborhood implies denser land use."
   ]
  },
  {
   "cell_type": "code",
   "execution_count": null,
   "metadata": {},
   "outputs": [],
   "source": []
  }
 ],
 "metadata": {
  "kernelspec": {
   "display_name": "Python 3",
   "language": "python",
   "name": "python3"
  },
  "language_info": {
   "codemirror_mode": {
    "name": "ipython",
    "version": 3
   },
   "file_extension": ".py",
   "mimetype": "text/x-python",
   "name": "python",
   "nbconvert_exporter": "python",
   "pygments_lexer": "ipython3",
   "version": "3.6.8"
  }
 },
 "nbformat": 4,
 "nbformat_minor": 2
}
